{
 "cells": [
  {
   "cell_type": "code",
   "execution_count": 1,
   "metadata": {},
   "outputs": [],
   "source": [
    "import sys\n",
    "import pickle\n",
    "import pandas as pd\n",
    "import numpy as np\n",
    "from sklearn.model_selection import train_test_split\n",
    "import keras\n",
    "from keras.models import Sequential\n",
    "from keras.layers import Dense, Dropout, Activation, Flatten\n",
    "from keras.layers import Conv2D, MaxPooling2D\n",
    "from sklearn.metrics import classification_report\n",
    "from keras.models import load_model\n",
    "import cv2"
   ]
  },
  {
   "cell_type": "code",
   "execution_count": 2,
   "metadata": {},
   "outputs": [],
   "source": [
    "from flask import request\n",
    "from flask import jsonify\n",
    "from flask import Flask"
   ]
  },
  {
   "cell_type": "code",
   "execution_count": 3,
   "metadata": {},
   "outputs": [],
   "source": [
    "df = pd.read_pickle('semicon_wafer_final.pkl')"
   ]
  },
  {
   "cell_type": "code",
   "execution_count": 4,
   "metadata": {},
   "outputs": [],
   "source": [
    "app = Flask(__name__)"
   ]
  },
  {
   "cell_type": "code",
   "execution_count": 5,
   "metadata": {},
   "outputs": [],
   "source": [
    "def get_model():\n",
    "    global model\n",
    "    model = load_model('model_interarea_intercubic.h5')\n",
    "    print(\" * Model loaded!\")"
   ]
  },
  {
   "cell_type": "code",
   "execution_count": 6,
   "metadata": {},
   "outputs": [],
   "source": [
    "def preprocess_image(image):\n",
    "    if image.shape != (40, 40):\n",
    "        if image.size >= 1600:\n",
    "            image = cv2.resize(image, dsize=(40, 40), interpolation=cv2.INTER_AREA)\n",
    "        elif image.size < 1600:\n",
    "            image = cv2.resize(image, dsize=(40, 40), interpolation=cv2.INTER_CUBIC)\n",
    "    image = image.reshape((1, *image.shape, 1))\n",
    "    return image"
   ]
  },
  {
   "cell_type": "code",
   "execution_count": 7,
   "metadata": {},
   "outputs": [
    {
     "name": "stdout",
     "output_type": "stream",
     "text": [
      " * Loading Keras model...\n",
      " * Model loaded!\n"
     ]
    }
   ],
   "source": [
    "print(\" * Loading Keras model...\")\n",
    "get_model()"
   ]
  },
  {
   "cell_type": "code",
   "execution_count": 8,
   "metadata": {},
   "outputs": [],
   "source": [
    "@app.route(\"/predict\", methods=[\"POST\"])\n",
    "def predict1(image):\n",
    "    processed_image = preprocess_image(image)\n",
    "    \n",
    "    prediction = model.predict(processed_image).tolist()\n",
    "\n",
    "    response = {\n",
    "        'prediction': {\n",
    "            'Center': prediction[0][0],\n",
    "            'Donut': prediction[0][1],\n",
    "            'Edge-Loc': prediction[0][2],\n",
    "            'Edge-Ring': prediction[0][3],\n",
    "            'Loc': prediction[0][4],\n",
    "            'Random': prediction[0][5],\n",
    "            'Scratch': prediction[0][6],\n",
    "            'None': prediction[0][7],\n",
    "        }\n",
    "    }\n",
    "    return jsonify(response)"
   ]
  },
  {
   "cell_type": "code",
   "execution_count": null,
   "metadata": {},
   "outputs": [],
   "source": []
  }
 ],
 "metadata": {
  "kernelspec": {
   "display_name": "Python 3",
   "language": "python",
   "name": "python3"
  },
  "language_info": {
   "codemirror_mode": {
    "name": "ipython",
    "version": 3
   },
   "file_extension": ".py",
   "mimetype": "text/x-python",
   "name": "python",
   "nbconvert_exporter": "python",
   "pygments_lexer": "ipython3",
   "version": "3.9.1"
  }
 },
 "nbformat": 4,
 "nbformat_minor": 4
}
