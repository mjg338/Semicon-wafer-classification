{
 "cells": [
  {
   "cell_type": "code",
   "execution_count": 1,
   "metadata": {},
   "outputs": [],
   "source": [
    "import sys\n",
    "import pickle\n",
    "import pandas as pd\n",
    "import numpy as np\n",
    "from sklearn.model_selection import train_test_split\n",
    "import keras\n",
    "from keras.models import Sequential\n",
    "from keras.layers import Dense, Dropout, Activation, Flatten\n",
    "from keras.layers import Conv2D, MaxPooling2D\n",
    "from sklearn.metrics import classification_report"
   ]
  },
  {
   "cell_type": "code",
   "execution_count": 2,
   "metadata": {},
   "outputs": [],
   "source": [
    "df = pd.read_pickle('semicon_wafer_final.pkl')"
   ]
  },
  {
   "cell_type": "code",
   "execution_count": 3,
   "metadata": {},
   "outputs": [
    {
     "data": {
      "text/html": [
       "<div>\n",
       "<style scoped>\n",
       "    .dataframe tbody tr th:only-of-type {\n",
       "        vertical-align: middle;\n",
       "    }\n",
       "\n",
       "    .dataframe tbody tr th {\n",
       "        vertical-align: top;\n",
       "    }\n",
       "\n",
       "    .dataframe thead th {\n",
       "        text-align: right;\n",
       "    }\n",
       "</style>\n",
       "<table border=\"1\" class=\"dataframe\">\n",
       "  <thead>\n",
       "    <tr style=\"text-align: right;\">\n",
       "      <th></th>\n",
       "      <th>wafer map</th>\n",
       "      <th>die size</th>\n",
       "      <th>lot number</th>\n",
       "      <th>wafer index</th>\n",
       "      <th>failure type</th>\n",
       "      <th>clean wafer</th>\n",
       "      <th>failure type int</th>\n",
       "      <th>interarea_intercubic</th>\n",
       "      <th>interarea_interlinear</th>\n",
       "      <th>interarea_intercubic_clean</th>\n",
       "      <th>interarea_interlinear_clean</th>\n",
       "    </tr>\n",
       "  </thead>\n",
       "  <tbody>\n",
       "    <tr>\n",
       "      <th>0</th>\n",
       "      <td>[[0, 0, 0, 0, 0, 0, 0, 0, 0, 0, 0, 0, 0, 0, 0,...</td>\n",
       "      <td>1683.0</td>\n",
       "      <td>lot1</td>\n",
       "      <td>15</td>\n",
       "      <td>none</td>\n",
       "      <td>[[0, 0, 0, 0, 0, 0, 0, 0, 0, 0, 0, 0, 0, 0, 0,...</td>\n",
       "      <td>7</td>\n",
       "      <td>[[0, 0, 0, 0, 0, 0, 0, 0, 0, 0, 0, 0, 0, 0, 0,...</td>\n",
       "      <td>[[0, 0, 0, 0, 0, 0, 0, 0, 0, 0, 0, 0, 0, 0, 0,...</td>\n",
       "      <td>[[0, 0, 0, 0, 0, 0, 0, 0, 0, 0, 0, 0, 0, 0, 0,...</td>\n",
       "      <td>[[0, 0, 0, 0, 0, 0, 0, 0, 0, 0, 0, 0, 0, 0, 0,...</td>\n",
       "    </tr>\n",
       "    <tr>\n",
       "      <th>1</th>\n",
       "      <td>[[0, 0, 0, 0, 0, 0, 0, 0, 0, 0, 0, 0, 0, 0, 0,...</td>\n",
       "      <td>1683.0</td>\n",
       "      <td>lot1</td>\n",
       "      <td>16</td>\n",
       "      <td>none</td>\n",
       "      <td>[[0, 0, 0, 0, 0, 0, 0, 0, 0, 0, 0, 0, 0, 0, 0,...</td>\n",
       "      <td>7</td>\n",
       "      <td>[[0, 0, 0, 0, 0, 0, 0, 0, 0, 0, 0, 0, 0, 0, 0,...</td>\n",
       "      <td>[[0, 0, 0, 0, 0, 0, 0, 0, 0, 0, 0, 0, 0, 0, 0,...</td>\n",
       "      <td>[[0, 0, 0, 0, 0, 0, 0, 0, 0, 0, 0, 0, 0, 0, 0,...</td>\n",
       "      <td>[[0, 0, 0, 0, 0, 0, 0, 0, 0, 0, 0, 0, 0, 0, 0,...</td>\n",
       "    </tr>\n",
       "    <tr>\n",
       "      <th>2</th>\n",
       "      <td>[[0, 0, 0, 0, 0, 0, 0, 0, 0, 0, 0, 0, 0, 0, 0,...</td>\n",
       "      <td>1683.0</td>\n",
       "      <td>lot1</td>\n",
       "      <td>20</td>\n",
       "      <td>Loc</td>\n",
       "      <td>[[0, 0, 0, 0, 0, 0, 0, 0, 0, 0, 0, 0, 0, 0, 0,...</td>\n",
       "      <td>4</td>\n",
       "      <td>[[0, 0, 0, 0, 0, 0, 0, 0, 0, 0, 0, 0, 0, 0, 0,...</td>\n",
       "      <td>[[0, 0, 0, 0, 0, 0, 0, 0, 0, 0, 0, 0, 0, 0, 0,...</td>\n",
       "      <td>[[0, 0, 0, 0, 0, 0, 0, 0, 0, 0, 0, 0, 0, 0, 0,...</td>\n",
       "      <td>[[0, 0, 0, 0, 0, 0, 0, 0, 0, 0, 0, 0, 0, 0, 0,...</td>\n",
       "    </tr>\n",
       "    <tr>\n",
       "      <th>3</th>\n",
       "      <td>[[0, 0, 0, 0, 0, 0, 0, 0, 0, 0, 0, 0, 0, 0, 0,...</td>\n",
       "      <td>2460.0</td>\n",
       "      <td>lot2</td>\n",
       "      <td>4</td>\n",
       "      <td>none</td>\n",
       "      <td>[[0, 0, 0, 0, 0, 0, 0, 0, 0, 0, 0, 0, 0, 0, 0,...</td>\n",
       "      <td>7</td>\n",
       "      <td>[[0, 0, 0, 0, 0, 0, 0, 0, 0, 0, 0, 0, 0, 0, 0,...</td>\n",
       "      <td>[[0, 0, 0, 0, 0, 0, 0, 0, 0, 0, 0, 0, 0, 0, 0,...</td>\n",
       "      <td>[[0, 0, 0, 0, 0, 0, 0, 0, 0, 0, 0, 0, 0, 0, 0,...</td>\n",
       "      <td>[[0, 0, 0, 0, 0, 0, 0, 0, 0, 0, 0, 0, 0, 0, 0,...</td>\n",
       "    </tr>\n",
       "    <tr>\n",
       "      <th>4</th>\n",
       "      <td>[[0, 0, 0, 0, 0, 0, 0, 0, 0, 0, 0, 0, 0, 0, 0,...</td>\n",
       "      <td>2460.0</td>\n",
       "      <td>lot2</td>\n",
       "      <td>12</td>\n",
       "      <td>Edge-Loc</td>\n",
       "      <td>[[0, 0, 0, 0, 0, 0, 0, 0, 0, 0, 0, 0, 0, 0, 0,...</td>\n",
       "      <td>2</td>\n",
       "      <td>[[0, 0, 0, 0, 0, 0, 0, 0, 0, 0, 0, 0, 0, 0, 0,...</td>\n",
       "      <td>[[0, 0, 0, 0, 0, 0, 0, 0, 0, 0, 0, 0, 0, 0, 0,...</td>\n",
       "      <td>[[0, 0, 0, 0, 0, 0, 0, 0, 0, 0, 0, 0, 0, 0, 0,...</td>\n",
       "      <td>[[0, 0, 0, 0, 0, 0, 0, 0, 0, 0, 0, 0, 0, 0, 0,...</td>\n",
       "    </tr>\n",
       "  </tbody>\n",
       "</table>\n",
       "</div>"
      ],
      "text/plain": [
       "                                           wafer map  die size lot number  \\\n",
       "0  [[0, 0, 0, 0, 0, 0, 0, 0, 0, 0, 0, 0, 0, 0, 0,...    1683.0       lot1   \n",
       "1  [[0, 0, 0, 0, 0, 0, 0, 0, 0, 0, 0, 0, 0, 0, 0,...    1683.0       lot1   \n",
       "2  [[0, 0, 0, 0, 0, 0, 0, 0, 0, 0, 0, 0, 0, 0, 0,...    1683.0       lot1   \n",
       "3  [[0, 0, 0, 0, 0, 0, 0, 0, 0, 0, 0, 0, 0, 0, 0,...    2460.0       lot2   \n",
       "4  [[0, 0, 0, 0, 0, 0, 0, 0, 0, 0, 0, 0, 0, 0, 0,...    2460.0       lot2   \n",
       "\n",
       "  wafer index failure type                                        clean wafer  \\\n",
       "0          15         none  [[0, 0, 0, 0, 0, 0, 0, 0, 0, 0, 0, 0, 0, 0, 0,...   \n",
       "1          16         none  [[0, 0, 0, 0, 0, 0, 0, 0, 0, 0, 0, 0, 0, 0, 0,...   \n",
       "2          20          Loc  [[0, 0, 0, 0, 0, 0, 0, 0, 0, 0, 0, 0, 0, 0, 0,...   \n",
       "3           4         none  [[0, 0, 0, 0, 0, 0, 0, 0, 0, 0, 0, 0, 0, 0, 0,...   \n",
       "4          12     Edge-Loc  [[0, 0, 0, 0, 0, 0, 0, 0, 0, 0, 0, 0, 0, 0, 0,...   \n",
       "\n",
       "   failure type int                               interarea_intercubic  \\\n",
       "0                 7  [[0, 0, 0, 0, 0, 0, 0, 0, 0, 0, 0, 0, 0, 0, 0,...   \n",
       "1                 7  [[0, 0, 0, 0, 0, 0, 0, 0, 0, 0, 0, 0, 0, 0, 0,...   \n",
       "2                 4  [[0, 0, 0, 0, 0, 0, 0, 0, 0, 0, 0, 0, 0, 0, 0,...   \n",
       "3                 7  [[0, 0, 0, 0, 0, 0, 0, 0, 0, 0, 0, 0, 0, 0, 0,...   \n",
       "4                 2  [[0, 0, 0, 0, 0, 0, 0, 0, 0, 0, 0, 0, 0, 0, 0,...   \n",
       "\n",
       "                               interarea_interlinear  \\\n",
       "0  [[0, 0, 0, 0, 0, 0, 0, 0, 0, 0, 0, 0, 0, 0, 0,...   \n",
       "1  [[0, 0, 0, 0, 0, 0, 0, 0, 0, 0, 0, 0, 0, 0, 0,...   \n",
       "2  [[0, 0, 0, 0, 0, 0, 0, 0, 0, 0, 0, 0, 0, 0, 0,...   \n",
       "3  [[0, 0, 0, 0, 0, 0, 0, 0, 0, 0, 0, 0, 0, 0, 0,...   \n",
       "4  [[0, 0, 0, 0, 0, 0, 0, 0, 0, 0, 0, 0, 0, 0, 0,...   \n",
       "\n",
       "                          interarea_intercubic_clean  \\\n",
       "0  [[0, 0, 0, 0, 0, 0, 0, 0, 0, 0, 0, 0, 0, 0, 0,...   \n",
       "1  [[0, 0, 0, 0, 0, 0, 0, 0, 0, 0, 0, 0, 0, 0, 0,...   \n",
       "2  [[0, 0, 0, 0, 0, 0, 0, 0, 0, 0, 0, 0, 0, 0, 0,...   \n",
       "3  [[0, 0, 0, 0, 0, 0, 0, 0, 0, 0, 0, 0, 0, 0, 0,...   \n",
       "4  [[0, 0, 0, 0, 0, 0, 0, 0, 0, 0, 0, 0, 0, 0, 0,...   \n",
       "\n",
       "                         interarea_interlinear_clean  \n",
       "0  [[0, 0, 0, 0, 0, 0, 0, 0, 0, 0, 0, 0, 0, 0, 0,...  \n",
       "1  [[0, 0, 0, 0, 0, 0, 0, 0, 0, 0, 0, 0, 0, 0, 0,...  \n",
       "2  [[0, 0, 0, 0, 0, 0, 0, 0, 0, 0, 0, 0, 0, 0, 0,...  \n",
       "3  [[0, 0, 0, 0, 0, 0, 0, 0, 0, 0, 0, 0, 0, 0, 0,...  \n",
       "4  [[0, 0, 0, 0, 0, 0, 0, 0, 0, 0, 0, 0, 0, 0, 0,...  "
      ]
     },
     "execution_count": 3,
     "metadata": {},
     "output_type": "execute_result"
    }
   ],
   "source": [
    "df.head()"
   ]
  },
  {
   "cell_type": "code",
   "execution_count": 4,
   "metadata": {},
   "outputs": [],
   "source": [
    "X = df['interarea_intercubic']\n",
    "y = df['failure type int']\n",
    "X = np.stack(X)\n",
    "#y = np.stack(y)\n",
    "X = np.expand_dims(X, axis=-1)\n",
    "#y = np.expand_dims(y, axis=-1)\n",
    "\n",
    "X_train, X_test, y_train, y_test = train_test_split(X, y, test_size=0.33, random_state=42)"
   ]
  },
  {
   "cell_type": "code",
   "execution_count": 5,
   "metadata": {},
   "outputs": [
    {
     "data": {
      "text/plain": [
       "(16238, 40, 40, 1)"
      ]
     },
     "execution_count": 5,
     "metadata": {},
     "output_type": "execute_result"
    }
   ],
   "source": [
    "X_train.shape"
   ]
  },
  {
   "cell_type": "code",
   "execution_count": 6,
   "metadata": {},
   "outputs": [
    {
     "data": {
      "text/plain": [
       "dtype('int64')"
      ]
     },
     "execution_count": 6,
     "metadata": {},
     "output_type": "execute_result"
    }
   ],
   "source": [
    "y.dtype"
   ]
  },
  {
   "cell_type": "code",
   "execution_count": 7,
   "metadata": {},
   "outputs": [
    {
     "data": {
      "text/plain": [
       "(24237, 40, 40, 1)"
      ]
     },
     "execution_count": 7,
     "metadata": {},
     "output_type": "execute_result"
    }
   ],
   "source": [
    "X.shape"
   ]
  },
  {
   "cell_type": "code",
   "execution_count": 8,
   "metadata": {},
   "outputs": [],
   "source": [
    "X_valid, X_train = X_train[:2000], X_train[2000:]\n",
    "y_valid, y_train = y_train[:2000], y_train[2000:]"
   ]
  },
  {
   "cell_type": "code",
   "execution_count": 9,
   "metadata": {},
   "outputs": [],
   "source": [
    "df1 = df.groupby('failure type int', as_index = False)['lot number'].count()"
   ]
  },
  {
   "cell_type": "code",
   "execution_count": 10,
   "metadata": {},
   "outputs": [],
   "source": [
    "class_names = list(df1['failure type int'])"
   ]
  },
  {
   "cell_type": "code",
   "execution_count": 11,
   "metadata": {},
   "outputs": [],
   "source": [
    "model = keras.models.Sequential([\n",
    "    keras.layers.Conv2D(64, 7, activation=\"relu\", padding=\"same\",\n",
    "                        input_shape = [40, 40, 1]),\n",
    "    keras.layers.MaxPooling2D(2),\n",
    "    keras.layers.Conv2D(128, 3, activation=\"relu\", padding=\"same\"),\n",
    "    keras.layers.Conv2D(128, 3, activation=\"relu\", padding=\"same\"),\n",
    "    keras.layers.MaxPooling2D(2),\n",
    "    keras.layers.Conv2D(256, 3, activation=\"relu\", padding=\"same\"),\n",
    "    keras.layers.Conv2D(256, 3, activation=\"relu\", padding=\"same\"),\n",
    "    keras.layers.MaxPooling2D(2),\n",
    "    keras.layers.Flatten(),\n",
    "    keras.layers.Dense(128, activation=\"relu\"),\n",
    "    keras.layers.Dropout(0.5),\n",
    "    keras.layers.Dense(64, activation=\"relu\"),\n",
    "    keras.layers.Dropout(0.5),\n",
    "    keras.layers.Dense(8, activation=\"softmax\")\n",
    "])"
   ]
  },
  {
   "cell_type": "code",
   "execution_count": 16,
   "metadata": {},
   "outputs": [],
   "source": [
    "model.compile(loss=\"sparse_categorical_crossentropy\",\n",
    "             optimizer='Adam',\n",
    "             metrics=['accuracy'])"
   ]
  },
  {
   "cell_type": "code",
   "execution_count": 17,
   "metadata": {},
   "outputs": [
    {
     "name": "stdout",
     "output_type": "stream",
     "text": [
      "Epoch 1/40\n",
      "445/445 [==============================] - 71s 158ms/step - loss: 1.9206 - accuracy: 0.2293 - val_loss: 1.4275 - val_accuracy: 0.5555\n",
      "Epoch 2/40\n",
      "445/445 [==============================] - 70s 157ms/step - loss: 1.1906 - accuracy: 0.5613 - val_loss: 0.7754 - val_accuracy: 0.7170\n",
      "Epoch 3/40\n",
      "445/445 [==============================] - 68s 154ms/step - loss: 0.9107 - accuracy: 0.6631 - val_loss: 0.6682 - val_accuracy: 0.7495\n",
      "Epoch 4/40\n",
      "445/445 [==============================] - 69s 154ms/step - loss: 0.7819 - accuracy: 0.7216 - val_loss: 0.6760 - val_accuracy: 0.7670\n",
      "Epoch 5/40\n",
      "445/445 [==============================] - 72s 163ms/step - loss: 0.6718 - accuracy: 0.7620 - val_loss: 0.5604 - val_accuracy: 0.7960\n",
      "Epoch 6/40\n",
      "445/445 [==============================] - 69s 156ms/step - loss: 0.6321 - accuracy: 0.7820 - val_loss: 0.4760 - val_accuracy: 0.8270\n",
      "Epoch 7/40\n",
      "445/445 [==============================] - 70s 158ms/step - loss: 0.5745 - accuracy: 0.7999 - val_loss: 0.5301 - val_accuracy: 0.8110\n",
      "Epoch 8/40\n",
      "445/445 [==============================] - 68s 153ms/step - loss: 0.5514 - accuracy: 0.8046 - val_loss: 0.4643 - val_accuracy: 0.8355\n",
      "Epoch 9/40\n",
      "445/445 [==============================] - 67s 150ms/step - loss: 0.5093 - accuracy: 0.8297 - val_loss: 0.4250 - val_accuracy: 0.8485\n",
      "Epoch 10/40\n",
      "445/445 [==============================] - 69s 155ms/step - loss: 0.4706 - accuracy: 0.8451 - val_loss: 0.4093 - val_accuracy: 0.8635\n",
      "Epoch 11/40\n",
      "445/445 [==============================] - 90s 202ms/step - loss: 0.4502 - accuracy: 0.8483 - val_loss: 0.4600 - val_accuracy: 0.8545\n",
      "Epoch 12/40\n",
      "445/445 [==============================] - 1231s 3s/step - loss: 0.3867 - accuracy: 0.8666 - val_loss: 0.3642 - val_accuracy: 0.8810\n",
      "Epoch 13/40\n",
      "445/445 [==============================] - 67s 151ms/step - loss: 0.3720 - accuracy: 0.8737 - val_loss: 0.3994 - val_accuracy: 0.8655\n",
      "Epoch 14/40\n",
      "445/445 [==============================] - 70s 158ms/step - loss: 0.3618 - accuracy: 0.8784 - val_loss: 0.4103 - val_accuracy: 0.8765\n",
      "Epoch 15/40\n",
      "445/445 [==============================] - 70s 158ms/step - loss: 0.3157 - accuracy: 0.8944 - val_loss: 0.3841 - val_accuracy: 0.8755\n",
      "Epoch 16/40\n",
      "445/445 [==============================] - 68s 152ms/step - loss: 0.3222 - accuracy: 0.8946 - val_loss: 0.3791 - val_accuracy: 0.8815\n",
      "Epoch 17/40\n",
      "445/445 [==============================] - 69s 155ms/step - loss: 0.2840 - accuracy: 0.9055 - val_loss: 0.3450 - val_accuracy: 0.8880\n",
      "Epoch 18/40\n",
      "445/445 [==============================] - 67s 152ms/step - loss: 0.2449 - accuracy: 0.9204 - val_loss: 0.3855 - val_accuracy: 0.8795\n",
      "Epoch 19/40\n",
      "445/445 [==============================] - 67s 150ms/step - loss: 0.2592 - accuracy: 0.9116 - val_loss: 0.3941 - val_accuracy: 0.8830\n",
      "Epoch 20/40\n",
      "445/445 [==============================] - 67s 150ms/step - loss: 0.2294 - accuracy: 0.9219 - val_loss: 0.4022 - val_accuracy: 0.8885\n",
      "Epoch 21/40\n",
      "445/445 [==============================] - 68s 152ms/step - loss: 0.2150 - accuracy: 0.9277 - val_loss: 0.4380 - val_accuracy: 0.8765\n",
      "Epoch 22/40\n",
      "445/445 [==============================] - 72s 162ms/step - loss: 0.1974 - accuracy: 0.9375 - val_loss: 0.4228 - val_accuracy: 0.8935\n",
      "Epoch 23/40\n",
      "445/445 [==============================] - 69s 155ms/step - loss: 0.2067 - accuracy: 0.9343 - val_loss: 0.3862 - val_accuracy: 0.8935\n",
      "Epoch 24/40\n",
      "445/445 [==============================] - 70s 157ms/step - loss: 0.1722 - accuracy: 0.9444 - val_loss: 0.4642 - val_accuracy: 0.8715\n",
      "Epoch 25/40\n",
      "445/445 [==============================] - 68s 154ms/step - loss: 0.1613 - accuracy: 0.9472 - val_loss: 0.4579 - val_accuracy: 0.8935\n",
      "Epoch 26/40\n",
      "445/445 [==============================] - 67s 151ms/step - loss: 0.1574 - accuracy: 0.9537 - val_loss: 0.4848 - val_accuracy: 0.8805\n",
      "Epoch 27/40\n",
      "445/445 [==============================] - 70s 158ms/step - loss: 0.1681 - accuracy: 0.9438 - val_loss: 0.4842 - val_accuracy: 0.8865\n",
      "Epoch 28/40\n",
      "445/445 [==============================] - 68s 154ms/step - loss: 0.1520 - accuracy: 0.9532 - val_loss: 0.4638 - val_accuracy: 0.8935\n",
      "Epoch 29/40\n",
      "445/445 [==============================] - 68s 152ms/step - loss: 0.1265 - accuracy: 0.9610 - val_loss: 0.5952 - val_accuracy: 0.8780\n",
      "Epoch 30/40\n",
      "445/445 [==============================] - 73s 164ms/step - loss: 0.1687 - accuracy: 0.9487 - val_loss: 0.6180 - val_accuracy: 0.8885\n",
      "Epoch 31/40\n",
      "445/445 [==============================] - 70s 158ms/step - loss: 0.1265 - accuracy: 0.9594 - val_loss: 0.5688 - val_accuracy: 0.8825\n",
      "Epoch 32/40\n",
      "445/445 [==============================] - 72s 162ms/step - loss: 0.1170 - accuracy: 0.9630 - val_loss: 0.6205 - val_accuracy: 0.8945\n",
      "Epoch 33/40\n",
      "445/445 [==============================] - 68s 154ms/step - loss: 0.1127 - accuracy: 0.9607 - val_loss: 0.7570 - val_accuracy: 0.8745\n",
      "Epoch 34/40\n",
      "445/445 [==============================] - 72s 162ms/step - loss: 0.1224 - accuracy: 0.9621 - val_loss: 0.5869 - val_accuracy: 0.8835\n",
      "Epoch 35/40\n",
      "445/445 [==============================] - 73s 164ms/step - loss: 0.1570 - accuracy: 0.9551 - val_loss: 0.6291 - val_accuracy: 0.8815\n",
      "Epoch 36/40\n",
      "445/445 [==============================] - 72s 162ms/step - loss: 0.1117 - accuracy: 0.9685 - val_loss: 0.6353 - val_accuracy: 0.8810\n",
      "Epoch 37/40\n",
      "445/445 [==============================] - 69s 155ms/step - loss: 0.0954 - accuracy: 0.9677 - val_loss: 0.6105 - val_accuracy: 0.8945\n",
      "Epoch 38/40\n",
      "445/445 [==============================] - 73s 163ms/step - loss: 0.0940 - accuracy: 0.9691 - val_loss: 0.6039 - val_accuracy: 0.8930\n",
      "Epoch 39/40\n",
      "445/445 [==============================] - 71s 159ms/step - loss: 0.0950 - accuracy: 0.9706 - val_loss: 0.7111 - val_accuracy: 0.8865\n",
      "Epoch 40/40\n",
      "445/445 [==============================] - 73s 164ms/step - loss: 0.0901 - accuracy: 0.9718 - val_loss: 0.6075 - val_accuracy: 0.8865\n"
     ]
    }
   ],
   "source": [
    "history = model.fit(X_train, y_train, epochs=40,\n",
    "                   validation_data=(X_valid, y_valid))"
   ]
  },
  {
   "cell_type": "code",
   "execution_count": null,
   "metadata": {},
   "outputs": [],
   "source": [
    "model.evaluate(x=X_test, y=y_test)"
   ]
  },
  {
   "cell_type": "code",
   "execution_count": null,
   "metadata": {},
   "outputs": [],
   "source": [
    "model.evaluate(x=X_train, y=y_train)"
   ]
  },
  {
   "cell_type": "code",
   "execution_count": null,
   "metadata": {},
   "outputs": [],
   "source": [
    "model.evaluate(x=X_valid, y=y_valid)"
   ]
  },
  {
   "cell_type": "code",
   "execution_count": null,
   "metadata": {},
   "outputs": [],
   "source": [
    "y_pred = model.predict_classes(X_test)\n",
    "print(classification_report(y_test, y_pred))"
   ]
  },
  {
   "cell_type": "code",
   "execution_count": null,
   "metadata": {},
   "outputs": [],
   "source": [
    "model.save('model_interarea_intercubic_clean.h5')"
   ]
  },
  {
   "cell_type": "code",
   "execution_count": null,
   "metadata": {},
   "outputs": [],
   "source": []
  }
 ],
 "metadata": {
  "kernelspec": {
   "display_name": "Python 3",
   "language": "python",
   "name": "python3"
  },
  "language_info": {
   "codemirror_mode": {
    "name": "ipython",
    "version": 3
   },
   "file_extension": ".py",
   "mimetype": "text/x-python",
   "name": "python",
   "nbconvert_exporter": "python",
   "pygments_lexer": "ipython3",
   "version": "3.8.3"
  }
 },
 "nbformat": 4,
 "nbformat_minor": 4
}
